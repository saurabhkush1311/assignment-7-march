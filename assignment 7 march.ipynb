{
 "cells": [
  {
   "cell_type": "code",
   "execution_count": 1,
   "id": "61d5b921-1d3f-460b-a458-aa8885afc6ad",
   "metadata": {},
   "outputs": [],
   "source": [
    "#Queston1:\n",
    "#Answer:\n",
    "\n",
    "#The three measures of central tendancy are:\n",
    "# 1. Mean.\n",
    "# 2. Median.\n",
    "# 3. Mode."
   ]
  },
  {
   "cell_type": "code",
   "execution_count": 2,
   "id": "4a5cc7f2-c4dd-4edf-861b-864043d5b401",
   "metadata": {},
   "outputs": [],
   "source": [
    "#Question2:\n",
    "#Answer:\n",
    "\n",
    "#The mean represents the average value and is used when the data is symmetric and does not have significant outliers.\n",
    "#The median represents the middle value and is used when the data is skewed or contains outliers to provide a more robust measure of central tendency.\n",
    "#The mode represents the most common value and is useful for identifying the most frequent observation in categorical or discrete datasets."
   ]
  },
  {
   "cell_type": "code",
   "execution_count": 18,
   "id": "32fe3c91-988b-478e-9742-1912ecdd13b6",
   "metadata": {},
   "outputs": [],
   "source": [
    "#Question3:\n",
    "#Answer:\n",
    "import pandas as pd\n",
    "data = [178,177,176,177,178.2,178,175,179,180,175,178.9,176.2,177,172.5,178,176.5]"
   ]
  },
  {
   "cell_type": "code",
   "execution_count": 11,
   "id": "d40c520a-1425-4aac-9aae-d948ffe0548c",
   "metadata": {},
   "outputs": [],
   "source": [
    "df = pd.DataFrame(data)"
   ]
  },
  {
   "cell_type": "code",
   "execution_count": 12,
   "id": "91d11809-5179-41e7-9d2d-d2e966074fd3",
   "metadata": {},
   "outputs": [
    {
     "data": {
      "text/html": [
       "<div>\n",
       "<style scoped>\n",
       "    .dataframe tbody tr th:only-of-type {\n",
       "        vertical-align: middle;\n",
       "    }\n",
       "\n",
       "    .dataframe tbody tr th {\n",
       "        vertical-align: top;\n",
       "    }\n",
       "\n",
       "    .dataframe thead th {\n",
       "        text-align: right;\n",
       "    }\n",
       "</style>\n",
       "<table border=\"1\" class=\"dataframe\">\n",
       "  <thead>\n",
       "    <tr style=\"text-align: right;\">\n",
       "      <th></th>\n",
       "      <th>0</th>\n",
       "    </tr>\n",
       "  </thead>\n",
       "  <tbody>\n",
       "    <tr>\n",
       "      <th>0</th>\n",
       "      <td>178.0</td>\n",
       "    </tr>\n",
       "    <tr>\n",
       "      <th>1</th>\n",
       "      <td>177.0</td>\n",
       "    </tr>\n",
       "    <tr>\n",
       "      <th>2</th>\n",
       "      <td>176.0</td>\n",
       "    </tr>\n",
       "    <tr>\n",
       "      <th>3</th>\n",
       "      <td>177.0</td>\n",
       "    </tr>\n",
       "    <tr>\n",
       "      <th>4</th>\n",
       "      <td>178.2</td>\n",
       "    </tr>\n",
       "    <tr>\n",
       "      <th>5</th>\n",
       "      <td>178.0</td>\n",
       "    </tr>\n",
       "    <tr>\n",
       "      <th>6</th>\n",
       "      <td>175.0</td>\n",
       "    </tr>\n",
       "    <tr>\n",
       "      <th>7</th>\n",
       "      <td>179.0</td>\n",
       "    </tr>\n",
       "    <tr>\n",
       "      <th>8</th>\n",
       "      <td>180.0</td>\n",
       "    </tr>\n",
       "    <tr>\n",
       "      <th>9</th>\n",
       "      <td>175.0</td>\n",
       "    </tr>\n",
       "    <tr>\n",
       "      <th>10</th>\n",
       "      <td>178.9</td>\n",
       "    </tr>\n",
       "    <tr>\n",
       "      <th>11</th>\n",
       "      <td>176.2</td>\n",
       "    </tr>\n",
       "    <tr>\n",
       "      <th>12</th>\n",
       "      <td>177.0</td>\n",
       "    </tr>\n",
       "    <tr>\n",
       "      <th>13</th>\n",
       "      <td>172.5</td>\n",
       "    </tr>\n",
       "    <tr>\n",
       "      <th>14</th>\n",
       "      <td>178.0</td>\n",
       "    </tr>\n",
       "    <tr>\n",
       "      <th>15</th>\n",
       "      <td>176.5</td>\n",
       "    </tr>\n",
       "  </tbody>\n",
       "</table>\n",
       "</div>"
      ],
      "text/plain": [
       "        0\n",
       "0   178.0\n",
       "1   177.0\n",
       "2   176.0\n",
       "3   177.0\n",
       "4   178.2\n",
       "5   178.0\n",
       "6   175.0\n",
       "7   179.0\n",
       "8   180.0\n",
       "9   175.0\n",
       "10  178.9\n",
       "11  176.2\n",
       "12  177.0\n",
       "13  172.5\n",
       "14  178.0\n",
       "15  176.5"
      ]
     },
     "execution_count": 12,
     "metadata": {},
     "output_type": "execute_result"
    }
   ],
   "source": [
    "df"
   ]
  },
  {
   "cell_type": "code",
   "execution_count": 13,
   "id": "8925c889-bb4c-40b0-a692-f920845f6d5c",
   "metadata": {},
   "outputs": [
    {
     "data": {
      "text/plain": [
       "0    177.01875\n",
       "dtype: float64"
      ]
     },
     "execution_count": 13,
     "metadata": {},
     "output_type": "execute_result"
    }
   ],
   "source": [
    "df.mean()"
   ]
  },
  {
   "cell_type": "code",
   "execution_count": 14,
   "id": "9e6a2d53-53a4-4a26-8066-4691ba740f51",
   "metadata": {},
   "outputs": [
    {
     "data": {
      "text/plain": [
       "0    177.0\n",
       "dtype: float64"
      ]
     },
     "execution_count": 14,
     "metadata": {},
     "output_type": "execute_result"
    }
   ],
   "source": [
    "df.median()"
   ]
  },
  {
   "cell_type": "code",
   "execution_count": 16,
   "id": "9ef91f63-e044-42fe-82fd-808079b7dfc7",
   "metadata": {},
   "outputs": [],
   "source": [
    "from scipy import stats"
   ]
  },
  {
   "cell_type": "code",
   "execution_count": 17,
   "id": "04ea22c1-b40e-4c65-946e-535b28f1d895",
   "metadata": {},
   "outputs": [
    {
     "name": "stderr",
     "output_type": "stream",
     "text": [
      "/tmp/ipykernel_518/4235401754.py:1: FutureWarning: Unlike other reduction functions (e.g. `skew`, `kurtosis`), the default behavior of `mode` typically preserves the axis it acts along. In SciPy 1.11.0, this behavior will change: the default value of `keepdims` will become False, the `axis` over which the statistic is taken will be eliminated, and the value None will no longer be accepted. Set `keepdims` to True or False to avoid this warning.\n",
      "  stats.mode(df)\n"
     ]
    },
    {
     "data": {
      "text/plain": [
       "ModeResult(mode=array([[177.]]), count=array([[3]]))"
      ]
     },
     "execution_count": 17,
     "metadata": {},
     "output_type": "execute_result"
    }
   ],
   "source": [
    "stats.mode(df)"
   ]
  },
  {
   "cell_type": "code",
   "execution_count": 19,
   "id": "6dbb2bbd-5e58-4342-9f37-928717fa9cfc",
   "metadata": {},
   "outputs": [
    {
     "data": {
      "text/html": [
       "<div>\n",
       "<style scoped>\n",
       "    .dataframe tbody tr th:only-of-type {\n",
       "        vertical-align: middle;\n",
       "    }\n",
       "\n",
       "    .dataframe tbody tr th {\n",
       "        vertical-align: top;\n",
       "    }\n",
       "\n",
       "    .dataframe thead th {\n",
       "        text-align: right;\n",
       "    }\n",
       "</style>\n",
       "<table border=\"1\" class=\"dataframe\">\n",
       "  <thead>\n",
       "    <tr style=\"text-align: right;\">\n",
       "      <th></th>\n",
       "      <th>0</th>\n",
       "    </tr>\n",
       "  </thead>\n",
       "  <tbody>\n",
       "    <tr>\n",
       "      <th>0</th>\n",
       "      <td>178.0</td>\n",
       "    </tr>\n",
       "    <tr>\n",
       "      <th>1</th>\n",
       "      <td>177.0</td>\n",
       "    </tr>\n",
       "    <tr>\n",
       "      <th>2</th>\n",
       "      <td>176.0</td>\n",
       "    </tr>\n",
       "    <tr>\n",
       "      <th>3</th>\n",
       "      <td>177.0</td>\n",
       "    </tr>\n",
       "    <tr>\n",
       "      <th>4</th>\n",
       "      <td>178.2</td>\n",
       "    </tr>\n",
       "    <tr>\n",
       "      <th>5</th>\n",
       "      <td>178.0</td>\n",
       "    </tr>\n",
       "    <tr>\n",
       "      <th>6</th>\n",
       "      <td>175.0</td>\n",
       "    </tr>\n",
       "    <tr>\n",
       "      <th>7</th>\n",
       "      <td>179.0</td>\n",
       "    </tr>\n",
       "    <tr>\n",
       "      <th>8</th>\n",
       "      <td>180.0</td>\n",
       "    </tr>\n",
       "    <tr>\n",
       "      <th>9</th>\n",
       "      <td>175.0</td>\n",
       "    </tr>\n",
       "    <tr>\n",
       "      <th>10</th>\n",
       "      <td>178.9</td>\n",
       "    </tr>\n",
       "    <tr>\n",
       "      <th>11</th>\n",
       "      <td>176.2</td>\n",
       "    </tr>\n",
       "    <tr>\n",
       "      <th>12</th>\n",
       "      <td>177.0</td>\n",
       "    </tr>\n",
       "    <tr>\n",
       "      <th>13</th>\n",
       "      <td>172.5</td>\n",
       "    </tr>\n",
       "    <tr>\n",
       "      <th>14</th>\n",
       "      <td>178.0</td>\n",
       "    </tr>\n",
       "    <tr>\n",
       "      <th>15</th>\n",
       "      <td>176.5</td>\n",
       "    </tr>\n",
       "  </tbody>\n",
       "</table>\n",
       "</div>"
      ],
      "text/plain": [
       "        0\n",
       "0   178.0\n",
       "1   177.0\n",
       "2   176.0\n",
       "3   177.0\n",
       "4   178.2\n",
       "5   178.0\n",
       "6   175.0\n",
       "7   179.0\n",
       "8   180.0\n",
       "9   175.0\n",
       "10  178.9\n",
       "11  176.2\n",
       "12  177.0\n",
       "13  172.5\n",
       "14  178.0\n",
       "15  176.5"
      ]
     },
     "execution_count": 19,
     "metadata": {},
     "output_type": "execute_result"
    }
   ],
   "source": [
    "#Question4:\n",
    "#Answer:\n",
    "df"
   ]
  },
  {
   "cell_type": "code",
   "execution_count": 20,
   "id": "1c326bb4-df05-4695-9fc8-a38c8ca7723f",
   "metadata": {},
   "outputs": [
    {
     "data": {
      "text/plain": [
       "0    1.847239\n",
       "dtype: float64"
      ]
     },
     "execution_count": 20,
     "metadata": {},
     "output_type": "execute_result"
    }
   ],
   "source": [
    "df.std()"
   ]
  },
  {
   "cell_type": "code",
   "execution_count": 28,
   "id": "86d49c66-0cc9-4d8d-9879-d4cd5631df19",
   "metadata": {},
   "outputs": [],
   "source": [
    "#Question5:\n",
    "#Answer:\n",
    "Dataset= [10, 12, 14, 15, 18]"
   ]
  },
  {
   "cell_type": "code",
   "execution_count": 24,
   "id": "7e67bc96-2e85-4e55-80b6-46af518d6f72",
   "metadata": {},
   "outputs": [
    {
     "data": {
      "text/plain": [
       "8"
      ]
     },
     "execution_count": 24,
     "metadata": {},
     "output_type": "execute_result"
    }
   ],
   "source": [
    "#Range = Maximum Value - Minimum Value\n",
    "Range = 18 - 10\n",
    "Range"
   ]
  },
  {
   "cell_type": "code",
   "execution_count": 29,
   "id": "34f415ca-01f7-4f01-b1c7-21d7d363ed60",
   "metadata": {},
   "outputs": [],
   "source": [
    "df1 = pd.DataFrame(Dataset)"
   ]
  },
  {
   "cell_type": "code",
   "execution_count": 34,
   "id": "3a97b3fa-9697-41f8-b6e6-1dd9ef798266",
   "metadata": {},
   "outputs": [
    {
     "data": {
      "text/plain": [
       "0    9.2\n",
       "dtype: float64"
      ]
     },
     "execution_count": 34,
     "metadata": {},
     "output_type": "execute_result"
    }
   ],
   "source": [
    "#Calculate the squared deviation of each data point from the mean and sum them up\n",
    "#Variance = [(10 - 13.8)^2 + (12 - 13.8)^2 + (14 - 13.8)^2 + (15 - 13.8)^2 + (18 - 13.8)^2] / 5\n",
    "df1.var()"
   ]
  },
  {
   "cell_type": "code",
   "execution_count": 33,
   "id": "4c9ed7b6-cb16-43c2-877d-8ea9f6d463ca",
   "metadata": {},
   "outputs": [
    {
     "data": {
      "text/plain": [
       "0    3.03315\n",
       "dtype: float64"
      ]
     },
     "execution_count": 33,
     "metadata": {},
     "output_type": "execute_result"
    }
   ],
   "source": [
    "#The standard deviation is the square root of the variance. \n",
    "df1.std()"
   ]
  },
  {
   "cell_type": "code",
   "execution_count": 36,
   "id": "49b640b4-21e7-4273-a629-230c19ab6409",
   "metadata": {},
   "outputs": [],
   "source": [
    "#Question6:\n",
    "#Answer:\n",
    "\n",
    "#A Venn diagram is a graphical representation used to illustrate the relationships between different sets or groups. It consists of overlapping circles or ellipses, with each circle representing a specific set and the overlapping areas showing the elements that are common to two or more sets. Venn diagrams are named after the British mathematician John Venn, who introduced them in the 19th century."
   ]
  },
  {
   "cell_type": "code",
   "execution_count": 37,
   "id": "5135b34f-7185-4e83-b67b-3245a2c334da",
   "metadata": {},
   "outputs": [],
   "source": [
    "#Question7:\n",
    "#Anmswer:\n",
    "A = {2,3,4,5,6,7}\n",
    "B = {0,2,6,8,10}"
   ]
  },
  {
   "cell_type": "code",
   "execution_count": 38,
   "id": "2c049420-b0be-483f-928e-c51a963af151",
   "metadata": {},
   "outputs": [],
   "source": [
    "union = A.union(B)"
   ]
  },
  {
   "cell_type": "code",
   "execution_count": 39,
   "id": "f8e3d292-7244-4acd-83b6-8b82941255bb",
   "metadata": {},
   "outputs": [
    {
     "data": {
      "text/plain": [
       "{0, 2, 3, 4, 5, 6, 7, 8, 10}"
      ]
     },
     "execution_count": 39,
     "metadata": {},
     "output_type": "execute_result"
    }
   ],
   "source": [
    "union"
   ]
  },
  {
   "cell_type": "code",
   "execution_count": 40,
   "id": "2a3b4bc1-8773-4d5b-a9dd-7743e5b1aa7c",
   "metadata": {},
   "outputs": [],
   "source": [
    "intersection = A.intersection(B)"
   ]
  },
  {
   "cell_type": "code",
   "execution_count": 41,
   "id": "e1e28f7b-8f6b-4eca-a9df-b0e072562fd5",
   "metadata": {},
   "outputs": [
    {
     "data": {
      "text/plain": [
       "{2, 6}"
      ]
     },
     "execution_count": 41,
     "metadata": {},
     "output_type": "execute_result"
    }
   ],
   "source": [
    "intersection"
   ]
  },
  {
   "cell_type": "code",
   "execution_count": 42,
   "id": "a3d36686-a5a1-4f9c-8c7a-e11b4e018008",
   "metadata": {},
   "outputs": [],
   "source": [
    "#Question8:\n",
    "#Answer:\n",
    "#Skewness is a measure of the asymmetry or lack of symmetry in a dataset's probability distribution. In data analysis and statistics, skewness helps to describe the shape of the distribution and how the data points are spread on either side of the central value (mean, median, or mode). Skewness is an essential concept as it provides insights into the departure from a symmetrical distribution and can impact the interpretation and analysis of data."
   ]
  },
  {
   "cell_type": "code",
   "execution_count": 43,
   "id": "625f9999-734a-4917-b95d-c9b9cb71c931",
   "metadata": {},
   "outputs": [],
   "source": [
    "#Question9:\n",
    "#Answer:\n",
    "#If a dataset is right-skewed, the median will be less than the mean.\n",
    "#In a right-skewed distribution, the tail on the right side of the distribution is longer, and the majority of data points cluster towards the left. This means that there are relatively few extreme high values that pull the mean towards the right. As a result, the mean will be higher than the median."
   ]
  },
  {
   "cell_type": "code",
   "execution_count": null,
   "id": "24886676-9e64-491f-8586-f5db7978fda1",
   "metadata": {},
   "outputs": [],
   "source": [
    "#Question10:\n",
    "#Answer:\n",
    "\n",
    "\"\"\"Correlation is a standardized measure that assesses the strength and direction of the linear relationship between two variables. It is a dimensionless quantity, which means it does not have units. Correlation coefficients range from -1 to 1. A correlation of +1 indicates a perfect positive linear relationship, -1 indicates a perfect negative linear relationship, and 0 indicates no linear relationship (independence) between the variables.\n",
    "The most commonly used correlation coefficient is Pearson's correlation coefficient, denoted as \"r.\" The formula for the Pearson correlation coefficient between two variables X and Y, based on n data points, is as follows:\n",
    "\n",
    "r = Σ [(Xᵢ - X̄) * (Yᵢ - Ȳ)] / [√(Σ (Xᵢ - X̄)²) * √(Σ (Yᵢ - Ȳ)²)]\n",
    "\n",
    "where Xᵢ and Yᵢ are individual data points, X̄ and Ȳ are the means of X and Y, respectively, and Σ denotes the summation over all data points.\n",
    "\n",
    "Usage in Statistical Analysis:\n",
    "\n",
    "Covariance and correlation are used to understand the relationship between two variables. They help to identify whether the variables tend to move together (positive correlation), move in opposite directions (negative correlation), or have no clear linear relationship (low or zero correlation).\n",
    "Correlation is particularly useful when comparing datasets with different scales, as it standardizes the relationship, allowing for easier interpretation.\n",
    "In financial analysis, covariance and correlation are used to understand the relationship between the returns of different assets in a portfolio.\n",
    "In social sciences, correlation is used to examine relationships between variables like income and education level or between health factors and lifestyle choices.\"\"\""
   ]
  },
  {
   "cell_type": "code",
   "execution_count": null,
   "id": "10959d47-f86e-4245-b261-d1f1c86edcc2",
   "metadata": {},
   "outputs": [],
   "source": [
    "#Question11:\n",
    "#Answer:\n",
    "\n",
    "#The Formula of Sample mean :  x̄ = ( Σ xi ) / n\n",
    "\n",
    "\"\"\"Let's calculate the sample mean for the following dataset:\n",
    "\n",
    "Dataset: [10, 15, 20, 25, 30]\n",
    "\n",
    "Step 1: Add all the data points:\n",
    "Sum = 10 + 15 + 20 + 25 + 30 = 100\n",
    "\n",
    "Step 2: Determine the total number of data points (n):\n",
    "n = 5 (since there are 5 data points in the dataset)\n",
    "\n",
    "Step 3: Calculate the sample mean:\n",
    "x̄ = Sum / n = 100 / 5 = 20\"\"\""
   ]
  },
  {
   "cell_type": "code",
   "execution_count": 45,
   "id": "ed6e8f44-ab58-42ed-aefe-1c452c638b08",
   "metadata": {},
   "outputs": [],
   "source": [
    "#Question12:\n",
    "#Answer:\n",
    "#For a normal distribution data what is the relationship between its measure of central tendency is (mean = median = mode)."
   ]
  },
  {
   "cell_type": "code",
   "execution_count": null,
   "id": "73c2b99a-a471-49d9-82c4-21f94a760f6f",
   "metadata": {},
   "outputs": [],
   "source": [
    "#Question13:\n",
    "#Answer:\n",
    "\n",
    "\"\"\"covariance and correlation both provide information about the relationship between two variables, but correlation offers a standardized and more interpretable measure that allows for easier comparison and understanding of the strength and direction of the linear relationship. Correlation is a more widely used measure in practice due to its dimensionless nature and the ease of interpretation.\"\"\""
   ]
  },
  {
   "cell_type": "code",
   "execution_count": null,
   "id": "47be600e-a01f-4106-8c3b-3a287b3cddba",
   "metadata": {},
   "outputs": [],
   "source": [
    "#Question14:\n",
    "#Answer:\n",
    "\n",
    "\"\"\"outliers can heavily influence the mean, range, variance, and standard deviation, leading to a misrepresentation of the central tendency and dispersion of the data. The median and mode, being robust to outliers, provide a more reliable description of the center and the most common values in the dataset when extreme values are present. Before making conclusions based on measures of central tendency and dispersion, it is essential to check for and consider the impact of outliers on the data analysis.\"\"\"\n",
    "\"\"\"Example Dataset: [10, 15, 20, 25, 30, 100]\n",
    "\n",
    "Measures of Central Tendency:\n",
    "Mean: Outliers can have a substantial effect on the mean. In the example dataset, the mean without the outlier is (10 + 15 + 20 + 25 + 30) / 5 = 20. However, when the outlier (100) is included, the mean becomes (10 + 15 + 20 + 25 + 30 + 100) / 6 ≈ 31.67. The outlier pulls the mean towards higher values.\n",
    "\n",
    "Median: The median is less affected by outliers. In this dataset, the median without the outlier is 20, and with the outlier, it remains 20. The presence of the outlier does not change the median, as it focuses on the middle value, which is not affected by extreme values.\n",
    "\n",
    "Mode: The mode is not influenced by outliers either. In this dataset, the mode is 20, which is the most frequently occurring value, regardless of the presence of the outlier.\n",
    "\n",
    "Measures of Dispersion:\n",
    "Range: The range is highly sensitive to outliers, as it depends on the extreme values in the dataset. In this example, the range without the outlier is 30 - 10 = 20. However, when the outlier (100) is included, the range becomes 100 - 10 = 90. The outlier significantly expands the range.\n",
    "\n",
    "Variance and Standard Deviation: Outliers can increase the variance and standard deviation. In the dataset without the outlier, the variance is approximately 62.5, and the standard deviation is around 7.91. When the outlier is included, the variance becomes approximately 1372.9, and the standard deviation increases to about 37.06. The presence of the outlier inflates the dispersion measures.\"\"\""
   ]
  }
 ],
 "metadata": {
  "kernelspec": {
   "display_name": "Python 3 (ipykernel)",
   "language": "python",
   "name": "python3"
  },
  "language_info": {
   "codemirror_mode": {
    "name": "ipython",
    "version": 3
   },
   "file_extension": ".py",
   "mimetype": "text/x-python",
   "name": "python",
   "nbconvert_exporter": "python",
   "pygments_lexer": "ipython3",
   "version": "3.10.6"
  }
 },
 "nbformat": 4,
 "nbformat_minor": 5
}
